{
 "cells": [
  {
   "cell_type": "code",
   "execution_count": null,
   "metadata": {
    "dotnet_interactive": {
     "language": "pwsh"
    },
    "polyglot_notebook": {
     "kernelName": "pwsh"
    },
    "vscode": {
     "languageId": "polyglot-notebook"
    }
   },
   "outputs": [],
   "source": [
    "# Login to Azure\n",
    "Write-Host \"Checking if logged in to Azure...\"\n",
    "\n",
    "$loggedIn = az account show --query \"name\" -o tsv\n",
    "\n",
    "if ($loggedIn -ne $null) {\n",
    "    Write-Host \"Already logged in as $loggedIn\"\n",
    "} else {\n",
    "    Write-Host \"Logging in...\"\n",
    "    az login\n",
    "}\n",
    "\n",
    "# Retrieve the default subscription ID\n",
    "$subscriptionId = (\n",
    "    (\n",
    "        az account list -o json `\n",
    "            --query \"[?isDefault]\"\n",
    "    ) | ConvertFrom-Json\n",
    ").id\n",
    "\n",
    "# Set the subscription\n",
    "az account set --subscription $subscriptionId\n",
    "Write-Host \"Subscription set to $subscriptionId\""
   ]
  },
  {
   "cell_type": "code",
   "execution_count": null,
   "metadata": {
    "dotnet_interactive": {
     "language": "pwsh"
    },
    "polyglot_notebook": {
     "kernelName": "pwsh"
    },
    "vscode": {
     "languageId": "polyglot-notebook"
    }
   },
   "outputs": [],
   "source": [
    "# Run Deploy-Infrastructure.ps1\n",
    ".\\Deploy-Infrastructure.ps1 -DeploymentName 'docintel-gpt-document-extraction' -Location 'eastus'"
   ]
  },
  {
   "cell_type": "code",
   "execution_count": null,
   "metadata": {
    "dotnet_interactive": {
     "language": "csharp"
    },
    "polyglot_notebook": {
     "kernelName": "csharp"
    },
    "vscode": {
     "languageId": "polyglot-notebook"
    }
   },
   "outputs": [],
   "source": [
    "#r \"nuget:System.Text.Json, 8.0.1\"\n",
    "#r \"nuget:DotNetEnv, 3.0.0\"\n",
    "#r \"nuget:Azure.AI.OpenAI, 1.0.0-beta.14\"\n",
    "#r \"nuget:Azure.AI.DocumentIntelligence, 1.0.0-beta.2\""
   ]
  },
  {
   "cell_type": "code",
   "execution_count": 5,
   "metadata": {
    "dotnet_interactive": {
     "language": "csharp"
    },
    "polyglot_notebook": {
     "kernelName": "csharp"
    },
    "vscode": {
     "languageId": "polyglot-notebook"
    }
   },
   "outputs": [],
   "source": [
    "using System.Net;\n",
    "using System.Net.Http;\n",
    "using System.Text.Json.Nodes;\n",
    "using System.Text.Json;\n",
    "using System.IO; \n",
    "\n",
    "using Azure;\n",
    "using Azure.AI.DocumentIntelligence;\n",
    "using Azure.AI.OpenAI;\n",
    "using DotNetEnv;"
   ]
  },
  {
   "cell_type": "code",
   "execution_count": 7,
   "metadata": {
    "dotnet_interactive": {
     "language": "csharp"
    },
    "polyglot_notebook": {
     "kernelName": "csharp"
    },
    "vscode": {
     "languageId": "polyglot-notebook"
    }
   },
   "outputs": [],
   "source": [
    "Env.Load(\"config.env\");\n",
    "\n",
    "var openAIEndpoint = Environment.GetEnvironmentVariable(\"AZURE_OPENAI_ENDPOINT\");\n",
    "var openAIApiKey = Environment.GetEnvironmentVariable(\"AZURE_OPENAI_API_KEY\");\n",
    "var openAIModelDeployment = Environment.GetEnvironmentVariable(\"AZURE_OPENAI_MODEL_DEPLOYMENT_NAME\");\n",
    "var openAIApiVersion = \"2023-12-01-preview\";\n",
    "var documentIntelligenceEndpoint = Environment.GetEnvironmentVariable(\"AZURE_DOCUMENT_INTELLIGENCE_ENDPOINT\");\n",
    "var documentIntelligenceApiKey = Environment.GetEnvironmentVariable(\"AZURE_DOCUMENT_INTELLIGENCE_KEY\");\n",
    "\n",
    "var pdfName = \"Invoice_1.pdf\";\n",
    "\n",
    "var documentIntelligenceClient = new DocumentIntelligenceClient(new Uri(documentIntelligenceEndpoint), new AzureKeyCredential(documentIntelligenceApiKey));\n",
    "var openAIClient = new OpenAIClient(new Uri(openAIEndpoint), new AzureKeyCredential(openAIApiKey));"
   ]
  },
  {
   "cell_type": "code",
   "execution_count": 8,
   "metadata": {
    "dotnet_interactive": {
     "language": "csharp"
    },
    "polyglot_notebook": {
     "kernelName": "csharp"
    },
    "vscode": {
     "languageId": "polyglot-notebook"
    }
   },
   "outputs": [],
   "source": [
    "var markdownAnalysisContent = new AnalyzeDocumentContent()\n",
    "{\n",
    "    Base64Source = BinaryData.FromBytes(File.ReadAllBytes(pdfName))\n",
    "};\n",
    "\n",
    "Operation<AnalyzeResult> markdownAnalysisOperation = await documentIntelligenceClient.AnalyzeDocumentAsync(WaitUntil.Completed, \"prebuilt-layout\", markdownAnalysisContent, outputContentFormat: ContentFormat.Markdown);\n",
    "var markdown = markdownAnalysisOperation.Value.Content;"
   ]
  },
  {
   "cell_type": "code",
   "execution_count": 9,
   "metadata": {
    "dotnet_interactive": {
     "language": "csharp"
    },
    "polyglot_notebook": {
     "kernelName": "csharp"
    },
    "vscode": {
     "languageId": "polyglot-notebook"
    }
   },
   "outputs": [
    {
     "name": "stdout",
     "output_type": "stream",
     "text": [
      "{\n",
      "  \"company_name\": \"CONTOSO\",\n",
      "  \"invoice_date\": \"2/27/2024\",\n",
      "  \"products\": [\n",
      "    {\n",
      "      \"id\": \"5-01-XX\",\n",
      "      \"unit_price\": \"1.00\",\n",
      "      \"quantity\": \"1.0\",\n",
      "      \"total\": \"1.00\"\n",
      "    },\n",
      "    {\n",
      "      \"id\": \"5-02-XX\",\n",
      "      \"unit_price\": \"1.50\",\n",
      "      \"quantity\": \"5.0\",\n",
      "      \"total\": \"7.50\"\n",
      "    },\n",
      "    {\n",
      "      \"id\": \"5-03-XX\",\n",
      "      \"unit_price\": \"5.75\",\n",
      "      \"quantity\": \"2.0\",\n",
      "      \"total\": \"11.50\"\n",
      "    },\n",
      "    {\n",
      "      \"id\": \"5-04-XX\",\n",
      "      \"unit_price\": \"2.80\",\n",
      "      \"quantity\": \"6.0\",\n",
      "      \"total\": \"16.80\"\n",
      "    },\n",
      "    {\n",
      "      \"id\": \"5-05-XX\",\n",
      "      \"unit_price\": \"4.45\",\n",
      "      \"quantity\": \"13.0\",\n",
      "      \"total\": \"57.85\"\n",
      "    },\n",
      "    {\n",
      "      \"id\": \"5-06-XX\",\n",
      "      \"unit_price\": \"2.20\",\n",
      "      \"quantity\": \"11.0\",\n",
      "      \"total\": \"24.20\"\n",
      "    },\n",
      "    {\n",
      "      \"id\": \"5-07-XX\",\n",
      "      \"unit_price\": \"20.05\",\n",
      "      \"quantity\": \"5.0\",\n",
      "      \"total\": \"100.25\"\n",
      "    },\n",
      "    {\n",
      "      \"id\": \"5-08-XX\",\n",
      "      \"unit_price\": \"9.50\",\n",
      "      \"quantity\": \"1.0\",\n",
      "      \"total\": \"9.50\"\n",
      "    },\n",
      "    {\n",
      "      \"id\": \"5-09-XX\",\n",
      "      \"unit_price\": \"5.00\",\n",
      "      \"quantity\": \"5.0\",\n",
      "      \"total\": \"25.00\"\n",
      "    },\n",
      "    {\n",
      "      \"id\": \"5-10-XX\",\n",
      "      \"unit_price\": \"0.75\",\n",
      "      \"quantity\": \"2.0\",\n",
      "      \"total\": \"1.50\"\n",
      "    },\n",
      "    {\n",
      "      \"id\": \"5-11-XX\",\n",
      "      \"unit_price\": \"1.00\",\n",
      "      \"quantity\": \"8.0\",\n",
      "      \"total\": \"8.0\"\n",
      "    },\n",
      "    {\n",
      "      \"id\": \"5-12-XX\",\n",
      "      \"unit_price\": \"15.00\",\n",
      "      \"quantity\": \"2.5\",\n",
      "      \"total\": \"37.50\"\n",
      "    },\n",
      "    {\n",
      "      \"id\": \"5-13-XX\",\n",
      "      \"unit_price\": \"11.50\",\n",
      "      \"quantity\": \"1.0\",\n",
      "      \"total\": \"11.50\"\n",
      "    },\n",
      "    {\n",
      "      \"id\": \"5-14-XX\",\n",
      "      \"unit_price\": \"5.25\",\n",
      "      \"quantity\": \"4.0\",\n",
      "      \"total\": \"21.00\"\n",
      "    },\n",
      "    {\n",
      "      \"id\": \"5-15-XX\",\n",
      "      \"unit_price\": \"99.99\",\n",
      "      \"quantity\": \"1.0\",\n",
      "      \"total\": \"99.99\"\n",
      "    },\n",
      "    {\n",
      "      \"id\": \"5-16-XX\",\n",
      "      \"unit_price\": \"1,350.00\",\n",
      "      \"quantity\": \"2.0\",\n",
      "      \"total\": \"2,700.00\"\n",
      "    },\n",
      "    {\n",
      "      \"id\": \"5-17-XX\",\n",
      "      \"unit_price\": \"56.95\",\n",
      "      \"quantity\": \"3.0\",\n",
      "      \"total\": \"170.85\"\n",
      "    }\n",
      "  ],\n",
      "  \"total_amount\": \"3,303.94\",\n",
      "  \"signatures\": [\n",
      "    {\n",
      "      \"type\": \"Distributor signature\",\n",
      "      \"has_signature\": true,\n",
      "      \"signed_on\": \"2/27/2024\"\n",
      "    },\n",
      "    {\n",
      "      \"type\": \"Customer signature\",\n",
      "      \"has_signature\": false,\n",
      "      \"signed_on\": null\n",
      "    }\n",
      "  ]\n",
      "}\r\n"
     ]
    }
   ],
   "source": [
    "var jsonStructure = new {\n",
    "    company_name = \"\",\n",
    "    invoice_date = \"\",\n",
    "    products = new [] {\n",
    "        new {\n",
    "            id = \"\",\n",
    "            unit_price = \"\",\n",
    "            quantity = \"\",\n",
    "            total = \"\"\n",
    "        }\n",
    "    },\n",
    "    total_amount = \"\",\n",
    "    signatures = new [] {\n",
    "        new {\n",
    "            type = \"\",\n",
    "            has_signature = \"\",\n",
    "            signed_on = \"\"\n",
    "        }\n",
    "    }\n",
    "};\n",
    "\n",
    "ChatCompletionsOptions options = new ChatCompletionsOptions()\n",
    "{\n",
    "    DeploymentName = openAIModelDeployment,\n",
    "    MaxTokens = 4096,\n",
    "    Temperature = 0.1f,\n",
    "    NucleusSamplingFactor = 0.1f\n",
    "};\n",
    "\n",
    "options.Messages.Add(new ChatRequestSystemMessage(\"You are an AI assistant that extracts data from documents and returns them as structured JSON objects. Do not return as a code block.\"));\n",
    "options.Messages.Add(new ChatRequestUserMessage($\"Extract the data from this invoice. If a value is not present, provide null. Use the following structure: {JsonSerializer.Serialize(jsonStructure)}\"));\n",
    "options.Messages.Add(new ChatRequestUserMessage(markdown));\n",
    "\n",
    "Response<ChatCompletions> response = await openAIClient.GetChatCompletionsAsync(options);\n",
    "foreach(var completion in response.Value.Choices)\n",
    "{\n",
    "    Console.WriteLine(completion.Message.Content);\n",
    "}"
   ]
  }
 ],
 "metadata": {
  "language_info": {
   "name": "python"
  }
 },
 "nbformat": 4,
 "nbformat_minor": 2
}
